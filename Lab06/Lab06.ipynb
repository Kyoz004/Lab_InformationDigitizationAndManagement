{
  "nbformat": 4,
  "nbformat_minor": 0,
  "metadata": {
    "colab": {
      "provenance": [],
      "gpuType": "T4"
    },
    "kernelspec": {
      "name": "python3",
      "display_name": "Python 3"
    },
    "language_info": {
      "name": "python"
    },
    "accelerator": "GPU"
  },
  "cells": [
    {
      "cell_type": "markdown",
      "source": [
        "# **Do Ly Anh Kiet - 2274802010451**\n",
        "\n",
        "\n",
        "---\n",
        "\n"
      ],
      "metadata": {
        "id": "TqpX1BbcK593"
      }
    },
    {
      "cell_type": "markdown",
      "source": [
        "# **Pytorch**"
      ],
      "metadata": {
        "id": "RLvBuPbNK724"
      }
    },
    {
      "cell_type": "code",
      "execution_count": 1,
      "metadata": {
        "colab": {
          "base_uri": "https://localhost:8080/"
        },
        "id": "8sGUiihgWOJO",
        "outputId": "5e408cae-f034-42bb-cc33-7caddfe425fb"
      },
      "outputs": [
        {
          "output_type": "stream",
          "name": "stdout",
          "text": [
            "Current GPU Device Index: 0\n",
            "GPU Device Name: Tesla T4\n",
            "GPU Memory Allocated (before tensor creation): 0 bytes\n",
            "GPU Memory Allocated (after tensor creation): 4194304 bytes\n",
            "GPU Memory Allocated (after tensor deletion): 0 bytes\n"
          ]
        }
      ],
      "source": [
        "import torch\n",
        "\n",
        "if torch.cuda.is_available():\n",
        "    device_index = torch.cuda.current_device()\n",
        "    device_name = torch.cuda.get_device_name(device_index)\n",
        "    memory_allocated = torch.cuda.memory_allocated()\n",
        "\n",
        "    print(f\"Current GPU Device Index: {device_index}\")\n",
        "    print(f\"GPU Device Name: {device_name}\")\n",
        "    print(f\"GPU Memory Allocated (before tensor creation): {memory_allocated} bytes\")\n",
        "\n",
        "    device = torch.device(\"cuda\")\n",
        "    tensor = torch.randn(1024, 1024, device=device)\n",
        "    memory_allocated = torch.cuda.memory_allocated()\n",
        "    print(f\"GPU Memory Allocated (after tensor creation): {memory_allocated} bytes\")\n",
        "\n",
        "    del tensor\n",
        "    memory_allocated_after = torch.cuda.memory_allocated()\n",
        "    print(f\"GPU Memory Allocated (after tensor deletion): {memory_allocated_after} bytes\")\n",
        "else:\n",
        "    print(\"CUDA is not available. Please ensure you have a compatible GPU and drivers installed.\")"
      ]
    },
    {
      "cell_type": "markdown",
      "source": [
        "#**DATASET WITH PYTHON**"
      ],
      "metadata": {
        "id": "ArDZbGPzXtzj"
      }
    },
    {
      "cell_type": "code",
      "source": [
        "import pandas as pd\n",
        "\n",
        "# Đọc dữ liệu từ file CSV\n",
        "df = pd.read_csv('/content/Iris.csv')\n",
        "\n",
        "# In 5 dòng đầu tiên của dữ liệu\n",
        "print(\"5 dòng đầu tiên của dữ liệu:\")\n",
        "print(df.head())\n",
        "\n",
        "# In số dòng và cột của dữ liệu\n",
        "print(\"\\nSố dòng và cột của dữ liệu:\")\n",
        "print(f\"Số dòng: {df.shape[0]}\")\n",
        "print(f\"Số cột: {df.shape[1]}\")"
      ],
      "metadata": {
        "colab": {
          "base_uri": "https://localhost:8080/"
        },
        "id": "si0RMRXeXwAN",
        "outputId": "218559f1-4c03-4ebd-b8fc-9b424b8fd0a2"
      },
      "execution_count": 2,
      "outputs": [
        {
          "output_type": "stream",
          "name": "stdout",
          "text": [
            "5 dòng đầu tiên của dữ liệu:\n",
            "   Id  SepalLengthCm  SepalWidthCm  PetalLengthCm  PetalWidthCm      Species\n",
            "0   1            5.1           3.5            1.4           0.2  Iris-setosa\n",
            "1   2            4.9           3.0            1.4           0.2  Iris-setosa\n",
            "2   3            4.7           3.2            1.3           0.2  Iris-setosa\n",
            "3   4            4.6           3.1            1.5           0.2  Iris-setosa\n",
            "4   5            5.0           3.6            1.4           0.2  Iris-setosa\n",
            "\n",
            "Số dòng và cột của dữ liệu:\n",
            "Số dòng: 150\n",
            "Số cột: 6\n"
          ]
        }
      ]
    },
    {
      "cell_type": "code",
      "source": [
        "import pandas as pd\n",
        "from sklearn.model_selection import train_test_split\n",
        "from sklearn.preprocessing import LabelEncoder\n",
        "import torch\n",
        "import numpy as np\n",
        "\n",
        "le = LabelEncoder()\n",
        "\n",
        "# Loại bỏ cột 'Id' nếu nó tồn tại\n",
        "if 'Id' in df.columns:\n",
        "    df = df.drop(columns=['Id'])\n",
        "\n",
        "# Chia dữ liệu\n",
        "X = df.drop(columns=['Species'])  # Giữ lại các đặc trưng\n",
        "y = le.fit_transform(df['Species'])  # Mã hóa nhãn thành số nguyên\n",
        "\n",
        "X_train, X_test, y_train, y_test = train_test_split(X, y, test_size=0.2, random_state=42)\n",
        "\n",
        "# Chuyển đổi DataFrame sang Tensor\n",
        "X_train = torch.FloatTensor(X_train.values)\n",
        "X_test = torch.FloatTensor(X_test.values)\n",
        "\n",
        "# Không dùng .values vì y_train đã là numpy array\n",
        "y_train = torch.LongTensor(y_train).reshape(-1, 1)\n",
        "y_test = torch.LongTensor(y_test).reshape(-1, 1)\n",
        "\n",
        "# Kiểm tra kích thước dữ liệu\n",
        "print(f\"Train size: {len(y_train)}\")\n",
        "\n",
        "# Đếm số lượng mẫu theo từng class\n",
        "labels, counts = np.unique(y_train, return_counts=True)\n",
        "print(labels, counts)\n"
      ],
      "metadata": {
        "colab": {
          "base_uri": "https://localhost:8080/"
        },
        "id": "fKOaRkyMa6Mu",
        "outputId": "e9b449b0-9cd1-4cd2-d8a1-8737df18e915"
      },
      "execution_count": 4,
      "outputs": [
        {
          "output_type": "stream",
          "name": "stdout",
          "text": [
            "Train size: 120\n",
            "[0 1 2] [40 41 39]\n"
          ]
        }
      ]
    },
    {
      "cell_type": "code",
      "source": [
        "import torch\n",
        "import sympy\n",
        "\n",
        "x_sym = sympy.Symbol('x', real=True)\n",
        "\n",
        "# Định nghĩa hàm y\n",
        "y_sym = 2*x_sym**4 + x_sym**3 + 3*x_sym**2 + 5*x_sym + 1\n",
        "# Tính đạo hàm\n",
        "y_prime_sym = sympy.diff(y_sym, x_sym)\n",
        "print(\"Biểu thức đạo hàm của y:\", y_prime_sym)\n",
        "\n",
        "x_torch = torch.tensor(2.0, requires_grad=True)\n",
        "y_torch = 2*x_torch**4 + x_torch**3 + 3*x_torch**2 + 5*x_torch + 1\n",
        "y_torch.backward()\n",
        "print(f\"Giá trị đạo hàm f'(2) =\", x_torch.grad.item())\n"
      ],
      "metadata": {
        "colab": {
          "base_uri": "https://localhost:8080/"
        },
        "id": "7Pdz8XBIdaPN",
        "outputId": "edcfe086-6b38-46c5-af50-c134af5cb4bf"
      },
      "execution_count": 8,
      "outputs": [
        {
          "output_type": "stream",
          "name": "stdout",
          "text": [
            "Biểu thức đạo hàm của y: 8*x**3 + 3*x**2 + 6*x + 5\n",
            "Giá trị đạo hàm f'(2) = 93.0\n"
          ]
        }
      ]
    },
    {
      "cell_type": "code",
      "source": [
        "import sympy\n",
        "\n",
        "x = sympy.Symbol('x', real=True)\n",
        "y = 5*x**6 + 5*x**4 + 3*x**3 + 5*x + 1\n",
        "y_prime = sympy.diff(y, x)\n",
        "print(\"Biểu thức đạo hàm:\", y_prime)\n",
        "slope_at_2 = y_prime.subs(x, 2)\n",
        "print(\"Độ dốc tại x=2:\", slope_at_2)"
      ],
      "metadata": {
        "colab": {
          "base_uri": "https://localhost:8080/"
        },
        "id": "TtnCR1VLgKlR",
        "outputId": "1ecc6f6e-1c27-41fd-d3d6-3d86ab35d8ad"
      },
      "execution_count": 9,
      "outputs": [
        {
          "output_type": "stream",
          "name": "stdout",
          "text": [
            "Biểu thức đạo hàm: 30*x**5 + 20*x**3 + 9*x**2 + 5\n",
            "Độ dốc tại x=2: 1161\n"
          ]
        }
      ]
    },
    {
      "cell_type": "code",
      "source": [
        "# BTVN1:\n",
        "# Tạo một tensor x có giá trị ban đầu 2.0\n",
        "# đn hàm số và tính np.gradient\n",
        "# y = x^3 + 2x^2 +5x+1 hãy tính dy/dx tại giá trị của x.\n",
        "#Dùng phương pháp gradient descent với learning rate alpha = 0.1 để cập nhật giá trị x trong 10 vòng lặp và in ra kết quả\n",
        "\n",
        "#BTVN2:\n",
        "# Tạo một tập dữ liệu giả lập với x là số giờ học ngẫu nhiên từ 1 - 10 và y số điểm được tính theo công thức y=3x+5+noise.\n",
        "# Với noise là một giá trị ngẫu nhiên nhỏ\n",
        "# 1. khởi tạo tham số w và b ngẫu nhiên với requires_gradient = true\n",
        "# 2. tính Mse\n",
        "# 3. tính np.gradient\n",
        "# 4. cập nhật tham số w và b = gradient descent với learning rate aplha = 0.01\n",
        "# 5. lặp lại quá trình trên trong 100 vòng lặp và quan sát sự hội tụ của mô hình\n",
        "# 6. biểu đồ"
      ],
      "metadata": {
        "id": "pweF81gHh7q1"
      },
      "execution_count": 16,
      "outputs": []
    },
    {
      "cell_type": "markdown",
      "source": [
        "\n",
        "\n",
        "---\n",
        "\n",
        "\n",
        "# Bài Tập Về Nhà\n",
        "## BTVN1:\n",
        "- **Mục tiêu:**  \n",
        "  - Tạo một tensor `x` có giá trị ban đầu là 2.0.  \n",
        "  - Định nghĩa hàm số: [ y = x^3 + 2x^2 + 5x + 1 ]\n",
        "  - Tính đạo hàm {dy}{dx} tại giá trị của `x` bằng hai cách:\n",
        "    1. Sử dụng tính toán tự động gradient của PyTorch.\n",
        "    2. Ước lượng bằng `np.gradient` trên một dãy giá trị x gần 2.0.\n",
        "  - Dùng phương pháp gradient descent với learning rate \\(\\alpha = 0.1\\) để cập nhật `x` trong 10 vòng lặp và in ra kết quả.\n",
        "\n",
        "## BTVN2:\n",
        "- **Mục tiêu:**  \n",
        "  - Tạo tập dữ liệu giả lập với:\n",
        "    - `x`: số giờ học ngẫu nhiên trong khoảng [1, 10].\n",
        "    - `y`: số điểm tính theo công thức \\( y = 3x + 5 + noise \\) với noise là nhiễu nhỏ.\n",
        "  - Khởi tạo tham số `w` và `b` ngẫu nhiên với `requires_grad=True`.\n",
        "  - Xây dựng mô hình hồi quy tuyến tính, tính hàm mất mát (MSE) và cập nhật tham số theo gradient descent với learning rate \\(\\alpha = 0.01\\) trong 100 vòng lặp.\n",
        "  - Biểu đồ quá trình hội tụ của hàm mất mát được vẽ ra.\n"
      ],
      "metadata": {
        "id": "D1oE27LOkchw"
      }
    },
    {
      "cell_type": "code",
      "source": [
        "import torch\n",
        "import numpy as np\n",
        "import pandas as pd\n",
        "from tabulate import tabulate\n",
        "\n",
        "print(\"=== BTVN1: Sử dụng PyTorch (autograd) ===\")\n",
        "\n",
        "x = torch.tensor(2.0, requires_grad=True)\n",
        "alpha = 0.1  # lr\n",
        "\n",
        "# Tạo một mảng các giá trị x xung quanh 2.0 (từ 1.9 đến 2.1)\n",
        "x_array = np.linspace(1.9, 2.1, 50)\n",
        "\n",
        "# Tính giá trị hàm số tại các điểm trong mảng\n",
        "y_array = x_array**3 + 2*x_array**2 + 5*x_array + 1\n",
        "\n",
        "# Tính gradient bằng np.gradient, sử dụng khoảng cách của x_array\n",
        "grad_np = np.gradient(y_array, x_array)\n",
        "\n",
        "# Lấy giá trị gradient gần nhất với x = 2.0\n",
        "idx = np.abs(x_array - 2.0).argmin()\n",
        "print(f\"Tại x = 2.0, np.gradient cho kết quả: grad ≈ {grad_np[idx]:.4f}\")\n",
        "\n",
        "# Danh sách lưu kết quả từng vòng lặp để tạo bảng output\n",
        "records = []\n",
        "for i in range(10):\n",
        "    # Tính hàm số: y = x^3 + 2x^2 + 5x + 1\n",
        "    y = x**3 + 2*x**2 + 5*x + 1\n",
        "    if x.grad is not None: x.grad.zero_()\n",
        "\n",
        "    # Tính gradient tự động: dy/dx\n",
        "    y.backward()\n",
        "\n",
        "    # Lấy giá trị gradient tại x hiện tại\n",
        "    grad_x = x.grad.item()\n",
        "\n",
        "    # Lưu lại kết quả của vòng lặp vào danh sách\n",
        "    records.append({\n",
        "        \"Iter\": i,\n",
        "        \"x\": x.item(),\n",
        "        \"y\": y.item(),\n",
        "        \"grad\": grad_x\n",
        "    })\n",
        "\n",
        "    # In ra kết quả của vòng lặp hiện tại\n",
        "    print(f\"Iter {i}: x = {x.item():.4f}, y = {y.item():.4f}, grad = {grad_x:.4f}\")\n",
        "\n",
        "    # Cập nhật x theo công thức: x = x - alpha * grad\n",
        "    with torch.no_grad():\n",
        "        x -= alpha * x.grad\n",
        "\n",
        "# Tạo bảng output\n",
        "df = pd.DataFrame(records)\n",
        "\n",
        "print(\"\\nBảng kết quả từng vòng lặp (sử dụng tabulate):\")\n",
        "print(tabulate(df, headers=\"keys\", tablefmt=\"psql\", showindex=False))"
      ],
      "metadata": {
        "colab": {
          "base_uri": "https://localhost:8080/"
        },
        "id": "4d30Gfy6kfxw",
        "outputId": "e7c20296-e8ef-4b44-81a1-83b8bb584e19"
      },
      "execution_count": 14,
      "outputs": [
        {
          "output_type": "stream",
          "name": "stdout",
          "text": [
            "=== BTVN1: Sử dụng PyTorch (autograd) ===\n",
            "Tại x = 2.0, np.gradient cho kết quả: grad ≈ 25.0327\n",
            "Iter 0: x = 2.0000, y = 27.0000, grad = 25.0000\n",
            "Iter 1: x = -0.5000, y = -1.1250, grad = 3.7500\n",
            "Iter 2: x = -0.8750, y = -2.5137, grad = 3.7969\n",
            "Iter 3: x = -1.2547, y = -4.1001, grad = 4.7040\n",
            "Iter 4: x = -1.7251, y = -6.8073, grad = 7.0274\n",
            "Iter 5: x = -2.4278, y = -13.6609, grad = 12.9717\n",
            "Iter 6: x = -3.7250, y = -41.5604, grad = 31.7268\n",
            "Iter 7: x = -6.8977, y = -266.5102, grad = 120.1433\n",
            "Iter 8: x = -18.9120, y = -6142.3750, grad = 1002.3439\n",
            "Iter 9: x = -119.1464, y = -1663589.5000, grad = 42116.0117\n",
            "\n",
            "Bảng kết quả từng vòng lặp (sử dụng tabulate):\n",
            "+--------+------------+-----------------+-------------+\n",
            "|   Iter |          x |               y |        grad |\n",
            "|--------+------------+-----------------+-------------|\n",
            "|      0 |    2       |    27           |    25       |\n",
            "|      1 |   -0.5     |    -1.125       |     3.75    |\n",
            "|      2 |   -0.875   |    -2.51367     |     3.79688 |\n",
            "|      3 |   -1.25469 |    -4.10014     |     4.70397 |\n",
            "|      4 |   -1.72508 |    -6.8073      |     7.02741 |\n",
            "|      5 |   -2.42783 |   -13.6609      |    12.9717  |\n",
            "|      6 |   -3.725   |   -41.5604      |    31.7268  |\n",
            "|      7 |   -6.89768 |  -266.51        |   120.143   |\n",
            "|      8 |  -18.912   | -6142.38        |  1002.34    |\n",
            "|      9 | -119.146   |    -1.66359e+06 | 42116       |\n",
            "+--------+------------+-----------------+-------------+\n"
          ]
        }
      ]
    },
    {
      "cell_type": "code",
      "source": [
        "import torch\n",
        "import numpy as np\n",
        "import matplotlib.pyplot as plt\n",
        "import pandas as pd\n",
        "\n",
        "# Đặt seed cho NumPy để dữ liệu tái lập được\n",
        "np.random.seed(0)\n",
        "\n",
        "# 1. Sinh dữ liệu giả lập\n",
        "num_samples = 50\n",
        "# x: số giờ học ngẫu nhiên trong khoảng [1, 10]\n",
        "x_np = np.random.uniform(1, 10, num_samples)\n",
        "# Sinh nhiễu nhỏ (noise) với độ lệch chuẩn 0.1\n",
        "noise = np.random.normal(0, 0.1, num_samples)\n",
        "# Công thức tính y: y = 3x + 5 + noise\n",
        "y_np = 3 * x_np + 5 + noise\n",
        "\n",
        "# Chuyển dữ liệu sang dạng tensor và chuyển thành vector cột\n",
        "x_tensor = torch.tensor(x_np, dtype=torch.float32).unsqueeze(1)\n",
        "y_tensor = torch.tensor(y_np, dtype=torch.float32).unsqueeze(1)\n",
        "\n",
        "# 2. Khởi tạo tham số w và b ngẫu nhiên với requires_grad=True\n",
        "w = torch.randn(1, requires_grad=True, dtype=torch.float32)\n",
        "b = torch.randn(1, requires_grad=True, dtype=torch.float32)\n",
        "\n",
        "# Thiết lập learning rate và số vòng lặp (epochs)\n",
        "alpha = 0.01\n",
        "num_epochs = 100\n",
        "loss_history = []  # Lưu lại giá trị loss ở mỗi epoch\n",
        "\n",
        "# Danh sách lưu kết quả huấn luyện cho bảng output\n",
        "metrics = []\n",
        "\n",
        "# 3. Huấn luyện mô hình bằng gradient descent\n",
        "for epoch in range(num_epochs):\n",
        "    # Tính giá trị dự đoán: y_pred = w*x + b\n",
        "    y_pred = w * x_tensor + b\n",
        "    # Tính hàm mất mát (Mean Squared Error - MSE)\n",
        "    loss = torch.mean((y_pred - y_tensor) ** 2)\n",
        "    loss_history.append(loss.item())\n",
        "\n",
        "    # Ghi lại các thông số hiện tại của mô hình\n",
        "    metrics.append({\n",
        "        \"Epoch\": epoch,\n",
        "        \"Loss\": loss.item(),\n",
        "        \"w\": w.item(),\n",
        "        \"b\": b.item()\n",
        "    })\n",
        "\n",
        "    # Reset gradient của các tham số trước khi tính mới\n",
        "    if w.grad is not None:\n",
        "        w.grad.zero_()\n",
        "    if b.grad is not None:\n",
        "        b.grad.zero_()\n",
        "\n",
        "    # Tính gradient của loss đối với w và b\n",
        "    loss.backward()\n",
        "\n",
        "    # Cập nhật các tham số theo gradient descent\n",
        "    with torch.no_grad():\n",
        "        w -= alpha * w.grad\n",
        "        b -= alpha * b.grad\n",
        "\n",
        "# 4. Tạo bảng output bằng pandas\n",
        "df_metrics = pd.DataFrame(metrics)\n",
        "# In bảng kết quả; bạn có thể hiển thị toàn bộ bảng hoặc lọc ra các epoch cách đều ví dụ mỗi 10 epoch\n",
        "display(df_metrics.iloc[::10, :])  # in mỗi 10 epoch\n",
        "\n",
        "# 5. Biểu đồ đường hội tụ của hàm mất mát theo epoch\n",
        "plt.figure(figsize=(8, 5))\n",
        "plt.plot(loss_history, marker='o', linestyle='-', color='b')\n",
        "plt.xlabel(\"Epoch\")\n",
        "plt.ylabel(\"MSE Loss\")\n",
        "plt.title(\"Quá trình hội tụ của mô hình\")\n",
        "plt.grid(True)\n",
        "plt.show()\n",
        "\n",
        "# 6. Biểu đồ scatter dữ liệu và đường hồi quy sau huấn luyện\n",
        "# Tính giá trị dự đoán sau khi huấn luyện\n",
        "y_pred_final = (w * x_tensor + b).detach().numpy()\n",
        "\n",
        "plt.figure(figsize=(8, 5))\n",
        "plt.scatter(x_np, y_np, label=\"Dữ liệu thật\", color=\"red\")\n",
        "# Sắp xếp x_np để vẽ đường hồi quy mượt mà\n",
        "sorted_indices = np.argsort(x_np)\n",
        "x_sorted = x_np[sorted_indices]\n",
        "y_line = (w.item() * x_sorted + b.item())\n",
        "plt.plot(x_sorted, y_line, label=\"Đường hồi quy\", color=\"blue\", linewidth=2)\n",
        "plt.xlabel(\"Số giờ học\")\n",
        "plt.ylabel(\"Điểm số\")\n",
        "plt.title(\"Hồi quy tuyến tính: Dữ liệu và đường hồi quy\")\n",
        "plt.legend()\n",
        "plt.grid(True)\n",
        "plt.show()\n"
      ],
      "metadata": {
        "colab": {
          "base_uri": "https://localhost:8080/",
          "height": 1000
        },
        "id": "miLCbln4kh7W",
        "outputId": "82302c36-0f2c-4bc1-cb6d-bb7cb5cd8397"
      },
      "execution_count": null,
      "outputs": [
        {
          "output_type": "display_data",
          "data": {
            "text/plain": [
              "    Epoch        Loss         w         b\n",
              "0       0  282.915436  1.133350 -0.301185\n",
              "10     10    3.433275  3.695549  0.218669\n",
              "20     20    3.238065  3.675335  0.357016\n",
              "30     30    3.053980  3.655707  0.491362\n",
              "40     40    2.880388  3.636647  0.621823\n",
              "50     50    2.716692  3.618137  0.748511\n",
              "60     60    2.562325  3.600163  0.871536\n",
              "70     70    2.416758  3.582708  0.991002\n",
              "80     80    2.279490  3.565758  1.107014\n",
              "90     90    2.150045  3.549299  1.219672"
            ],
            "text/html": [
              "\n",
              "  <div id=\"df-bc5d2b63-1ead-44c5-8169-5f656fd3a50e\" class=\"colab-df-container\">\n",
              "    <div>\n",
              "<style scoped>\n",
              "    .dataframe tbody tr th:only-of-type {\n",
              "        vertical-align: middle;\n",
              "    }\n",
              "\n",
              "    .dataframe tbody tr th {\n",
              "        vertical-align: top;\n",
              "    }\n",
              "\n",
              "    .dataframe thead th {\n",
              "        text-align: right;\n",
              "    }\n",
              "</style>\n",
              "<table border=\"1\" class=\"dataframe\">\n",
              "  <thead>\n",
              "    <tr style=\"text-align: right;\">\n",
              "      <th></th>\n",
              "      <th>Epoch</th>\n",
              "      <th>Loss</th>\n",
              "      <th>w</th>\n",
              "      <th>b</th>\n",
              "    </tr>\n",
              "  </thead>\n",
              "  <tbody>\n",
              "    <tr>\n",
              "      <th>0</th>\n",
              "      <td>0</td>\n",
              "      <td>282.915436</td>\n",
              "      <td>1.133350</td>\n",
              "      <td>-0.301185</td>\n",
              "    </tr>\n",
              "    <tr>\n",
              "      <th>10</th>\n",
              "      <td>10</td>\n",
              "      <td>3.433275</td>\n",
              "      <td>3.695549</td>\n",
              "      <td>0.218669</td>\n",
              "    </tr>\n",
              "    <tr>\n",
              "      <th>20</th>\n",
              "      <td>20</td>\n",
              "      <td>3.238065</td>\n",
              "      <td>3.675335</td>\n",
              "      <td>0.357016</td>\n",
              "    </tr>\n",
              "    <tr>\n",
              "      <th>30</th>\n",
              "      <td>30</td>\n",
              "      <td>3.053980</td>\n",
              "      <td>3.655707</td>\n",
              "      <td>0.491362</td>\n",
              "    </tr>\n",
              "    <tr>\n",
              "      <th>40</th>\n",
              "      <td>40</td>\n",
              "      <td>2.880388</td>\n",
              "      <td>3.636647</td>\n",
              "      <td>0.621823</td>\n",
              "    </tr>\n",
              "    <tr>\n",
              "      <th>50</th>\n",
              "      <td>50</td>\n",
              "      <td>2.716692</td>\n",
              "      <td>3.618137</td>\n",
              "      <td>0.748511</td>\n",
              "    </tr>\n",
              "    <tr>\n",
              "      <th>60</th>\n",
              "      <td>60</td>\n",
              "      <td>2.562325</td>\n",
              "      <td>3.600163</td>\n",
              "      <td>0.871536</td>\n",
              "    </tr>\n",
              "    <tr>\n",
              "      <th>70</th>\n",
              "      <td>70</td>\n",
              "      <td>2.416758</td>\n",
              "      <td>3.582708</td>\n",
              "      <td>0.991002</td>\n",
              "    </tr>\n",
              "    <tr>\n",
              "      <th>80</th>\n",
              "      <td>80</td>\n",
              "      <td>2.279490</td>\n",
              "      <td>3.565758</td>\n",
              "      <td>1.107014</td>\n",
              "    </tr>\n",
              "    <tr>\n",
              "      <th>90</th>\n",
              "      <td>90</td>\n",
              "      <td>2.150045</td>\n",
              "      <td>3.549299</td>\n",
              "      <td>1.219672</td>\n",
              "    </tr>\n",
              "  </tbody>\n",
              "</table>\n",
              "</div>\n",
              "    <div class=\"colab-df-buttons\">\n",
              "\n",
              "  <div class=\"colab-df-container\">\n",
              "    <button class=\"colab-df-convert\" onclick=\"convertToInteractive('df-bc5d2b63-1ead-44c5-8169-5f656fd3a50e')\"\n",
              "            title=\"Convert this dataframe to an interactive table.\"\n",
              "            style=\"display:none;\">\n",
              "\n",
              "  <svg xmlns=\"http://www.w3.org/2000/svg\" height=\"24px\" viewBox=\"0 -960 960 960\">\n",
              "    <path d=\"M120-120v-720h720v720H120Zm60-500h600v-160H180v160Zm220 220h160v-160H400v160Zm0 220h160v-160H400v160ZM180-400h160v-160H180v160Zm440 0h160v-160H620v160ZM180-180h160v-160H180v160Zm440 0h160v-160H620v160Z\"/>\n",
              "  </svg>\n",
              "    </button>\n",
              "\n",
              "  <style>\n",
              "    .colab-df-container {\n",
              "      display:flex;\n",
              "      gap: 12px;\n",
              "    }\n",
              "\n",
              "    .colab-df-convert {\n",
              "      background-color: #E8F0FE;\n",
              "      border: none;\n",
              "      border-radius: 50%;\n",
              "      cursor: pointer;\n",
              "      display: none;\n",
              "      fill: #1967D2;\n",
              "      height: 32px;\n",
              "      padding: 0 0 0 0;\n",
              "      width: 32px;\n",
              "    }\n",
              "\n",
              "    .colab-df-convert:hover {\n",
              "      background-color: #E2EBFA;\n",
              "      box-shadow: 0px 1px 2px rgba(60, 64, 67, 0.3), 0px 1px 3px 1px rgba(60, 64, 67, 0.15);\n",
              "      fill: #174EA6;\n",
              "    }\n",
              "\n",
              "    .colab-df-buttons div {\n",
              "      margin-bottom: 4px;\n",
              "    }\n",
              "\n",
              "    [theme=dark] .colab-df-convert {\n",
              "      background-color: #3B4455;\n",
              "      fill: #D2E3FC;\n",
              "    }\n",
              "\n",
              "    [theme=dark] .colab-df-convert:hover {\n",
              "      background-color: #434B5C;\n",
              "      box-shadow: 0px 1px 3px 1px rgba(0, 0, 0, 0.15);\n",
              "      filter: drop-shadow(0px 1px 2px rgba(0, 0, 0, 0.3));\n",
              "      fill: #FFFFFF;\n",
              "    }\n",
              "  </style>\n",
              "\n",
              "    <script>\n",
              "      const buttonEl =\n",
              "        document.querySelector('#df-bc5d2b63-1ead-44c5-8169-5f656fd3a50e button.colab-df-convert');\n",
              "      buttonEl.style.display =\n",
              "        google.colab.kernel.accessAllowed ? 'block' : 'none';\n",
              "\n",
              "      async function convertToInteractive(key) {\n",
              "        const element = document.querySelector('#df-bc5d2b63-1ead-44c5-8169-5f656fd3a50e');\n",
              "        const dataTable =\n",
              "          await google.colab.kernel.invokeFunction('convertToInteractive',\n",
              "                                                    [key], {});\n",
              "        if (!dataTable) return;\n",
              "\n",
              "        const docLinkHtml = 'Like what you see? Visit the ' +\n",
              "          '<a target=\"_blank\" href=https://colab.research.google.com/notebooks/data_table.ipynb>data table notebook</a>'\n",
              "          + ' to learn more about interactive tables.';\n",
              "        element.innerHTML = '';\n",
              "        dataTable['output_type'] = 'display_data';\n",
              "        await google.colab.output.renderOutput(dataTable, element);\n",
              "        const docLink = document.createElement('div');\n",
              "        docLink.innerHTML = docLinkHtml;\n",
              "        element.appendChild(docLink);\n",
              "      }\n",
              "    </script>\n",
              "  </div>\n",
              "\n",
              "\n",
              "<div id=\"df-559cecf2-b624-4be6-a39a-d3eec86c976a\">\n",
              "  <button class=\"colab-df-quickchart\" onclick=\"quickchart('df-559cecf2-b624-4be6-a39a-d3eec86c976a')\"\n",
              "            title=\"Suggest charts\"\n",
              "            style=\"display:none;\">\n",
              "\n",
              "<svg xmlns=\"http://www.w3.org/2000/svg\" height=\"24px\"viewBox=\"0 0 24 24\"\n",
              "     width=\"24px\">\n",
              "    <g>\n",
              "        <path d=\"M19 3H5c-1.1 0-2 .9-2 2v14c0 1.1.9 2 2 2h14c1.1 0 2-.9 2-2V5c0-1.1-.9-2-2-2zM9 17H7v-7h2v7zm4 0h-2V7h2v10zm4 0h-2v-4h2v4z\"/>\n",
              "    </g>\n",
              "</svg>\n",
              "  </button>\n",
              "\n",
              "<style>\n",
              "  .colab-df-quickchart {\n",
              "      --bg-color: #E8F0FE;\n",
              "      --fill-color: #1967D2;\n",
              "      --hover-bg-color: #E2EBFA;\n",
              "      --hover-fill-color: #174EA6;\n",
              "      --disabled-fill-color: #AAA;\n",
              "      --disabled-bg-color: #DDD;\n",
              "  }\n",
              "\n",
              "  [theme=dark] .colab-df-quickchart {\n",
              "      --bg-color: #3B4455;\n",
              "      --fill-color: #D2E3FC;\n",
              "      --hover-bg-color: #434B5C;\n",
              "      --hover-fill-color: #FFFFFF;\n",
              "      --disabled-bg-color: #3B4455;\n",
              "      --disabled-fill-color: #666;\n",
              "  }\n",
              "\n",
              "  .colab-df-quickchart {\n",
              "    background-color: var(--bg-color);\n",
              "    border: none;\n",
              "    border-radius: 50%;\n",
              "    cursor: pointer;\n",
              "    display: none;\n",
              "    fill: var(--fill-color);\n",
              "    height: 32px;\n",
              "    padding: 0;\n",
              "    width: 32px;\n",
              "  }\n",
              "\n",
              "  .colab-df-quickchart:hover {\n",
              "    background-color: var(--hover-bg-color);\n",
              "    box-shadow: 0 1px 2px rgba(60, 64, 67, 0.3), 0 1px 3px 1px rgba(60, 64, 67, 0.15);\n",
              "    fill: var(--button-hover-fill-color);\n",
              "  }\n",
              "\n",
              "  .colab-df-quickchart-complete:disabled,\n",
              "  .colab-df-quickchart-complete:disabled:hover {\n",
              "    background-color: var(--disabled-bg-color);\n",
              "    fill: var(--disabled-fill-color);\n",
              "    box-shadow: none;\n",
              "  }\n",
              "\n",
              "  .colab-df-spinner {\n",
              "    border: 2px solid var(--fill-color);\n",
              "    border-color: transparent;\n",
              "    border-bottom-color: var(--fill-color);\n",
              "    animation:\n",
              "      spin 1s steps(1) infinite;\n",
              "  }\n",
              "\n",
              "  @keyframes spin {\n",
              "    0% {\n",
              "      border-color: transparent;\n",
              "      border-bottom-color: var(--fill-color);\n",
              "      border-left-color: var(--fill-color);\n",
              "    }\n",
              "    20% {\n",
              "      border-color: transparent;\n",
              "      border-left-color: var(--fill-color);\n",
              "      border-top-color: var(--fill-color);\n",
              "    }\n",
              "    30% {\n",
              "      border-color: transparent;\n",
              "      border-left-color: var(--fill-color);\n",
              "      border-top-color: var(--fill-color);\n",
              "      border-right-color: var(--fill-color);\n",
              "    }\n",
              "    40% {\n",
              "      border-color: transparent;\n",
              "      border-right-color: var(--fill-color);\n",
              "      border-top-color: var(--fill-color);\n",
              "    }\n",
              "    60% {\n",
              "      border-color: transparent;\n",
              "      border-right-color: var(--fill-color);\n",
              "    }\n",
              "    80% {\n",
              "      border-color: transparent;\n",
              "      border-right-color: var(--fill-color);\n",
              "      border-bottom-color: var(--fill-color);\n",
              "    }\n",
              "    90% {\n",
              "      border-color: transparent;\n",
              "      border-bottom-color: var(--fill-color);\n",
              "    }\n",
              "  }\n",
              "</style>\n",
              "\n",
              "  <script>\n",
              "    async function quickchart(key) {\n",
              "      const quickchartButtonEl =\n",
              "        document.querySelector('#' + key + ' button');\n",
              "      quickchartButtonEl.disabled = true;  // To prevent multiple clicks.\n",
              "      quickchartButtonEl.classList.add('colab-df-spinner');\n",
              "      try {\n",
              "        const charts = await google.colab.kernel.invokeFunction(\n",
              "            'suggestCharts', [key], {});\n",
              "      } catch (error) {\n",
              "        console.error('Error during call to suggestCharts:', error);\n",
              "      }\n",
              "      quickchartButtonEl.classList.remove('colab-df-spinner');\n",
              "      quickchartButtonEl.classList.add('colab-df-quickchart-complete');\n",
              "    }\n",
              "    (() => {\n",
              "      let quickchartButtonEl =\n",
              "        document.querySelector('#df-559cecf2-b624-4be6-a39a-d3eec86c976a button');\n",
              "      quickchartButtonEl.style.display =\n",
              "        google.colab.kernel.accessAllowed ? 'block' : 'none';\n",
              "    })();\n",
              "  </script>\n",
              "</div>\n",
              "\n",
              "    </div>\n",
              "  </div>\n"
            ],
            "application/vnd.google.colaboratory.intrinsic+json": {
              "type": "dataframe",
              "summary": "{\n  \"name\": \"plt\",\n  \"rows\": 10,\n  \"fields\": [\n    {\n      \"column\": \"Epoch\",\n      \"properties\": {\n        \"dtype\": \"number\",\n        \"std\": 30,\n        \"min\": 0,\n        \"max\": 90,\n        \"num_unique_values\": 10,\n        \"samples\": [\n          80,\n          10,\n          50\n        ],\n        \"semantic_type\": \"\",\n        \"description\": \"\"\n      }\n    },\n    {\n      \"column\": \"Loss\",\n      \"properties\": {\n        \"dtype\": \"number\",\n        \"std\": 88.59772449722614,\n        \"min\": 2.150045394897461,\n        \"max\": 282.9154357910156,\n        \"num_unique_values\": 10,\n        \"samples\": [\n          2.279489517211914,\n          3.433274745941162,\n          2.7166919708251953\n        ],\n        \"semantic_type\": \"\",\n        \"description\": \"\"\n      }\n    },\n    {\n      \"column\": \"w\",\n      \"properties\": {\n        \"dtype\": \"number\",\n        \"std\": 0.7877385793865176,\n        \"min\": 1.133349895477295,\n        \"max\": 3.6955485343933105,\n        \"num_unique_values\": 10,\n        \"samples\": [\n          3.565758228302002,\n          3.6955485343933105,\n          3.6181366443634033\n        ],\n        \"semantic_type\": \"\",\n        \"description\": \"\"\n      }\n    },\n    {\n      \"column\": \"b\",\n      \"properties\": {\n        \"dtype\": \"number\",\n        \"std\": 0.4604351021770401,\n        \"min\": -0.3011850118637085,\n        \"max\": 1.219671607017517,\n        \"num_unique_values\": 10,\n        \"samples\": [\n          1.1070144176483154,\n          0.21866893768310547,\n          0.7485109567642212\n        ],\n        \"semantic_type\": \"\",\n        \"description\": \"\"\n      }\n    }\n  ]\n}"
            }
          },
          "metadata": {}
        },
        {
          "output_type": "display_data",
          "data": {
            "text/plain": [
              "<Figure size 800x500 with 1 Axes>"
            ],
            "image/png": "[encoded data removed]"
          },
          "metadata": {}
        },
        {
          "output_type": "display_data",
          "data": {
            "text/plain": [
              "<Figure size 800x500 with 1 Axes>"
            ],
            "image/png": "[encoded data removed]"
          },
          "metadata": {}
        }
      ]
    },
    {
      "cell_type": "code",
      "source": [
        "# Pytorch with tensor\n",
        "import torch\n",
        "import numpy as np\n",
        "torch.__version__"
      ],
      "metadata": {
        "colab": {
          "base_uri": "https://localhost:8080/",
          "height": 38
        },
        "id": "Swug19jbilye",
        "outputId": "82498bf2-8fdd-4b1c-b373-488dadfe2d99"
      },
      "execution_count": null,
      "outputs": [
        {
          "output_type": "execute_result",
          "data": {
            "text/plain": [
              "'2.5.1+cu124'"
            ],
            "application/vnd.google.colaboratory.intrinsic+json": {
              "type": "string"
            }
          },
          "metadata": {},
          "execution_count": 34
        }
      ]
    },
    {
      "cell_type": "code",
      "source": [
        "import numpy as np\n",
        "import torch\n",
        "\n",
        "# Tạo một mảng NumPy gồm các số nguyên\n",
        "arr = np.array([1, 2, 3, 4, 5])\n",
        "print(\"Mảng NumPy:\")\n",
        "print(arr)\n",
        "\n",
        "# In ra kiểu dữ liệu của mảng NumPy\n",
        "print(\"\\nKiểu dữ liệu của arr:\", arr.dtype)\n",
        "\n",
        "# In ra loại đối tượng của arr\n",
        "print(\"Loại đối tượng của arr:\", type(arr))\n",
        "\n",
        "# Chuyển đổi mảng NumPy sang tensor của PyTorch\n",
        "x = torch.from_numpy(arr)\n",
        "print(\"\\nTensor PyTorch:\")\n",
        "print(x)\n",
        "\n",
        "# In ra kiểu dữ liệu của tensor x\n",
        "print(\"\\nKiểu dữ liệu của tensor x:\", x.dtype)\n",
        "\n",
        "# In ra loại đối tượng của x\n",
        "print(\"Loại đối tượng của tensor x:\", type(x))\n"
      ],
      "metadata": {
        "colab": {
          "base_uri": "https://localhost:8080/"
        },
        "id": "hKZectQbkTxk",
        "outputId": "67bc8f36-d097-42c6-c389-b4b1fa0513cd"
      },
      "execution_count": 17,
      "outputs": [
        {
          "output_type": "stream",
          "name": "stdout",
          "text": [
            "Mảng NumPy:\n",
            "[1 2 3 4 5]\n",
            "\n",
            "Kiểu dữ liệu của arr: int64\n",
            "Loại đối tượng của arr: <class 'numpy.ndarray'>\n",
            "\n",
            "Tensor PyTorch:\n",
            "tensor([1, 2, 3, 4, 5])\n",
            "\n",
            "Kiểu dữ liệu của tensor x: torch.int64\n",
            "Loại đối tượng của tensor x: <class 'torch.Tensor'>\n"
          ]
        }
      ]
    },
    {
      "cell_type": "code",
      "source": [
        "import numpy as np\n",
        "import torch\n",
        "\n",
        "# Tạo mảng NumPy gồm các số từ 0 đến 11 và reshape thành ma trận 4x3\n",
        "arr2 = np.arange(12).reshape(4, 3)\n",
        "print(\"Mảng NumPy arr2:\")\n",
        "print(arr2)\n",
        "\n",
        "# Chuyển đổi mảng NumPy thành tensor PyTorch\n",
        "x2 = torch.from_numpy(arr2)\n",
        "print(\"\\nTensor PyTorch x2:\")\n",
        "print(x2)\n",
        "\n",
        "# In ra kiểu của tensor x2\n",
        "print(\"\\nKiểu của x2:\")\n",
        "print(type(x2))\n"
      ],
      "metadata": {
        "colab": {
          "base_uri": "https://localhost:8080/"
        },
        "id": "fsMeYOv-lYBu",
        "outputId": "842e2cc2-6549-4e25-ed03-853ca47c597a"
      },
      "execution_count": 18,
      "outputs": [
        {
          "output_type": "stream",
          "name": "stdout",
          "text": [
            "Mảng NumPy arr2:\n",
            "[[ 0  1  2]\n",
            " [ 3  4  5]\n",
            " [ 6  7  8]\n",
            " [ 9 10 11]]\n",
            "\n",
            "Tensor PyTorch x2:\n",
            "tensor([[ 0,  1,  2],\n",
            "        [ 3,  4,  5],\n",
            "        [ 6,  7,  8],\n",
            "        [ 9, 10, 11]])\n",
            "\n",
            "Kiểu của x2:\n",
            "<class 'torch.Tensor'>\n"
          ]
        }
      ]
    },
    {
      "cell_type": "markdown",
      "source": [
        "Copying and sharing"
      ],
      "metadata": {
        "id": "EArw203nnaRa"
      }
    },
    {
      "cell_type": "code",
      "source": [
        "import numpy as np\n",
        "import torch\n",
        "\n",
        "# Tạo một mảng NumPy với các giá trị từ 0 đến 4\n",
        "arr = np.arange(0, 5)\n",
        "# Chuyển đổi mảng NumPy thành tensor PyTorch\n",
        "x = torch.from_numpy(arr)\n",
        "\n",
        "# In tensor ban đầu\n",
        "print(\"Tensor ban đầu:\")\n",
        "print(x)  # Kết quả: tensor([0, 1, 2, 3, 4])\n",
        "\n",
        "# Thay đổi giá trị của phần tử đầu tiên trong mảng NumPy\n",
        "arr[0] = 99\n",
        "\n",
        "# In tensor sau khi mảng NumPy thay đổi\n",
        "print(\"\\nTensor sau khi thay đổi mảng NumPy:\")\n",
        "print(x)  # Kết quả: tensor([99, 1, 2, 3, 4])\n"
      ],
      "metadata": {
        "colab": {
          "base_uri": "https://localhost:8080/"
        },
        "id": "_x4QmSFMmF6J",
        "outputId": "e602c40b-fbe1-4a28-d001-e5e4edd8058a"
      },
      "execution_count": 19,
      "outputs": [
        {
          "output_type": "stream",
          "name": "stdout",
          "text": [
            "Tensor ban đầu:\n",
            "tensor([0, 1, 2, 3, 4])\n",
            "\n",
            "Tensor sau khi thay đổi mảng NumPy:\n",
            "tensor([99,  1,  2,  3,  4])\n"
          ]
        }
      ]
    },
    {
      "cell_type": "markdown",
      "source": [
        "\n",
        "\n",
        "---\n",
        "# **BTVN3: Giải thích 2 trường hợp ở trên**\n",
        "\n",
        "\n",
        "> Chia sẻ vùng nhớ:\n",
        "Hàm torch.from_numpy(arr) tạo ra một tensor mà sử dụng trực tiếp vùng nhớ của arr. Do đó, khi thay đổi giá trị trong arr, các thay đổi này sẽ được hiển thị ngay trong tensor.\n",
        "\n",
        "\n",
        "\n",
        ">Ví dụ minh họa:\n",
        "Trong đoạn code tạo mảng NumPy arr với các giá trị từ 0 đến 4, chuyển sang tensor x. Sau đó, khi thay đổi arr[0] thành 99, tensor x cũng tự động hiển thị giá trị mới vì chúng cùng trỏ đến cùng một vùng nhớ.\n",
        "\n",
        "\n",
        "\n",
        "\n"
      ],
      "metadata": {
        "id": "zt0zAM9WOxjs"
      }
    },
    {
      "cell_type": "code",
      "source": [
        "# BTVN4: Tạo tensor bằng cách sử dụng các hàm khác nhau\n",
        "import torch\n",
        "\n",
        "# 1. Tạo tensor rỗng (empty) với kích thước 2x3 (giá trị không xác định)\n",
        "empty_tensor = torch.empty(2, 3)\n",
        "print(\"Empty Tensor (2x3):\")\n",
        "print(empty_tensor)\n",
        "print()\n",
        "\n",
        "# 2. Tạo tensor toàn số 0 với kích thước 2x3\n",
        "zeros_tensor = torch.zeros(2, 3)\n",
        "print(\"Zeros Tensor (2x3):\")\n",
        "print(zeros_tensor)\n",
        "print()\n",
        "\n",
        "# 3. Tạo tensor toàn số 1 với kích thước 2x3\n",
        "ones_tensor = torch.ones(2, 3)\n",
        "print(\"Ones Tensor (2x3):\")\n",
        "print(ones_tensor)\n",
        "print()\n",
        "\n",
        "# 4. Tạo tensor với các giá trị ngẫu nhiên từ phân phối đều trong khoảng [0, 1)\n",
        "random_tensor = torch.rand(2, 3)\n",
        "print(\"Random Tensor (2x3):\")\n",
        "print(random_tensor)\n",
        "print()\n",
        "\n",
        "# Sử dụng view để thay đổi kích thước tensor:\n",
        "# Chẳng hạn, reshape ones_tensor từ kích thước (2,3) thành (3,2)\n",
        "reshaped_tensor_view = ones_tensor.view(3, 2)\n",
        "print(\"Reshaped Ones Tensor using view (3x2):\")\n",
        "print(reshaped_tensor_view)\n",
        "print()\n",
        "\n",
        "# Sử dụng view_as để reshape tensor theo kích thước của một tensor khác:\n",
        "# Ví dụ: reshape random_tensor (2x3) thành cùng kích thước của một tensor tham chiếu có kích thước (3,2)\n",
        "reference_tensor = torch.zeros(3, 2)\n",
        "reshaped_tensor_view_as = random_tensor.view_as(reference_tensor)\n",
        "print(\"Random Tensor reshaped using view_as (matching shape of reference tensor 3x2):\")\n",
        "print(reshaped_tensor_view_as)\n"
      ],
      "metadata": {
        "colab": {
          "base_uri": "https://localhost:8080/"
        },
        "id": "FiZpnDx8op49",
        "outputId": "ecf31019-7c9a-4842-95ee-7f58da592211"
      },
      "execution_count": null,
      "outputs": [
        {
          "output_type": "stream",
          "name": "stdout",
          "text": [
            "Empty Tensor (2x3):\n",
            "tensor([[1.1281e-30, 0.0000e+00, 7.7593e-31],\n",
            "        [0.0000e+00, 0.0000e+00, 0.0000e+00]])\n",
            "\n",
            "Zeros Tensor (2x3):\n",
            "tensor([[0., 0., 0.],\n",
            "        [0., 0., 0.]])\n",
            "\n",
            "Ones Tensor (2x3):\n",
            "tensor([[1., 1., 1.],\n",
            "        [1., 1., 1.]])\n",
            "\n",
            "Random Tensor (2x3):\n",
            "tensor([[0.4223, 0.2182, 0.7050],\n",
            "        [0.7312, 0.4599, 0.3924]])\n",
            "\n",
            "Reshaped Ones Tensor using view (3x2):\n",
            "tensor([[1., 1.],\n",
            "        [1., 1.],\n",
            "        [1., 1.]])\n",
            "\n",
            "Random Tensor reshaped using view_as (matching shape of reference tensor 3x2):\n",
            "tensor([[0.4223, 0.2182],\n",
            "        [0.7050, 0.7312],\n",
            "        [0.4599, 0.3924]])\n"
          ]
        }
      ]
    }
  ]
}